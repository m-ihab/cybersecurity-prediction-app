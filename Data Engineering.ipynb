{
 "cells": [
  {
   "cell_type": "code",
   "execution_count": 1,
   "id": "3b93666c-7c4f-46b0-8e1e-9948e5cbdb7a",
   "metadata": {},
   "outputs": [],
   "source": [
    "import pandas as pd\n",
    "import numpy as np\n",
    "import matplotlib.pyplot as plt\n",
    "import seaborn as sns\n",
    "import sklearn\n",
    "import ipaddress\n",
    "from sklearn.preprocessing import StandardScaler\n",
    "from sklearn.model_selection import train_test_split\n",
    "from sklearn.ensemble import RandomForestClassifier\n",
    "from sklearn.feature_selection import mutual_info_classif, RFE\n",
    "from sklearn.preprocessing import LabelEncoder\n",
    "from xgboost import XGBClassifier\n",
    "from sklearn.metrics import accuracy_score\n",
    "from sklearn.decomposition import PCA\n",
    "import joblib"
   ]
  },
  {
   "cell_type": "code",
   "execution_count": 2,
   "id": "26a0f9b8-e95a-4714-bb10-708a69dc2621",
   "metadata": {},
   "outputs": [],
   "source": [
    "df = pd.read_csv(\"./data/cybersecurity_attacks.csv\")"
   ]
  },
  {
   "cell_type": "code",
   "execution_count": 3,
   "id": "527e964b-a98a-4b59-bd32-81ffdb4424d0",
   "metadata": {},
   "outputs": [],
   "source": [
    "columns = [\n",
    "    \"User Information\",\n",
    "    \"Geo-location Data\",\n",
    "    \"Payload Data\"\n",
    "]\n",
    "df = df.drop(columns=columns)"
   ]
  },
  {
   "cell_type": "code",
   "execution_count": 4,
   "id": "0e4ed31e-2faa-4833-83ea-efaeba6f63b6",
   "metadata": {},
   "outputs": [],
   "source": [
    "def extract_device_info(user_agent):\n",
    "    \"\"\"\n",
    "    Extracts Operating System (OS), Browser, and Device Type from a user-agent string.\n",
    "    \"\"\"\n",
    "    user_agent = str(user_agent).lower()\n",
    "\n",
    "    if \"windows\" in user_agent:\n",
    "        os = \"Windows\"\n",
    "    elif \"mac os\" in user_agent or \"macintosh\" in user_agent:\n",
    "        os = \"MacOS\"\n",
    "    elif \"linux\" in user_agent:\n",
    "        os = \"Linux\"\n",
    "    elif \"android\" in user_agent:\n",
    "        os = \"Android\"\n",
    "    elif \"iphone\" in user_agent or \"ipad\" in user_agent or \"ios\" in user_agent:\n",
    "        os = \"iOS\"\n",
    "    else:\n",
    "        os = \"Other\"\n",
    "\n",
    "    if \"chrome\" in user_agent:\n",
    "        browser = \"Chrome\"\n",
    "    elif \"firefox\" in user_agent:\n",
    "        browser = \"Firefox\"\n",
    "    elif \"safari\" in user_agent and \"chrome\" not in user_agent:\n",
    "        browser = \"Safari\"\n",
    "    elif \"msie\" in user_agent or \"trident\" in user_agent:\n",
    "        browser = \"Internet Explorer\"\n",
    "    elif \"edge\" in user_agent:\n",
    "        browser = \"Edge\"\n",
    "    else:\n",
    "        browser = \"Other\"\n",
    "\n",
    "    if \"mobile\" in user_agent or \"android\" in user_agent or \"iphone\" in user_agent:\n",
    "        device_type = \"Mobile\"\n",
    "    else:\n",
    "        device_type = \"Desktop\"\n",
    "\n",
    "    return pd.Series([os, browser, device_type])\n",
    "\n",
    "def extract_ip_features(ip):\n",
    "    try:\n",
    "        ip_obj = ipaddress.ip_address(ip)\n",
    "        octets = str(ip).split('.')\n",
    "        octet_1 = int(octets[0])\n",
    "        octet_2 = int(octets[1])\n",
    "        octet_3 = int(octets[2])\n",
    "        octet_4 = int(octets[3])\n",
    "        \n",
    "    except:\n",
    "        octet_1, octet_2, octet_3, octet_4 = 0, 0, 0, 0\n",
    "\n",
    "    return pd.Series([octet_1, octet_2, octet_3, octet_4])\n",
    "\n",
    "def time_of_day(hour):\n",
    "    if 5 <= hour < 12:\n",
    "        return \"Morning\"\n",
    "    elif 12 <= hour < 17:\n",
    "        return \"Afternoon\"\n",
    "    elif 17 <= hour < 21:\n",
    "        return \"Evening\"\n",
    "    else:\n",
    "        return \"Night\""
   ]
  },
  {
   "cell_type": "code",
   "execution_count": 5,
   "id": "116a4c34-f7e3-44c2-8a43-e24ae4bde5e6",
   "metadata": {},
   "outputs": [],
   "source": [
    "missing_cols = ['Malware Indicators', 'Alerts/Warnings', 'Firewall Logs', 'IDS/IPS Alerts', 'Proxy Information']\n",
    "df[missing_cols] = df[missing_cols].fillna(0)"
   ]
  },
  {
   "cell_type": "code",
   "execution_count": 6,
   "id": "9fab543a-ae81-4097-b3de-fed98874645c",
   "metadata": {},
   "outputs": [],
   "source": [
    "df['Malware Indicators'] = df['Malware Indicators'].apply(lambda x: 1 if x == 'IoC Detected' else 0)\n",
    "df['Alerts/Warnings'] = df['Alerts/Warnings'].apply(lambda x: 1 if x == 'Alert Triggered' else 0)\n",
    "df['Firewall Logs'] = df['Firewall Logs'].apply(lambda x: 1 if x == 'Log Data' else 0)\n",
    "df['IDS/IPS Alerts'] = df['IDS/IPS Alerts'].apply(lambda x: 1 if x == 'Alert Data' else 0)\n",
    "df['Packet Type'] = df['Packet Type'].apply(lambda x: 1 if x == 'Data' else 0)\n",
    "df['Log Source'] = df['Log Source'].apply(lambda x: 1 if x == 'Server' else 0)\n",
    "df['Attack Signature'] = df['Attack Signature'].apply(lambda x: 1 if x == 'Known Pattern A' else 0)"
   ]
  },
  {
   "cell_type": "code",
   "execution_count": 7,
   "id": "7750787b-c5c3-40ec-8143-900f64a5e3ab",
   "metadata": {},
   "outputs": [],
   "source": [
    "protocol_dummies = pd.get_dummies(df['Protocol'], prefix='', prefix_sep='')\n",
    "protocol_dummies = protocol_dummies[['ICMP', 'UDP']].astype(int)\n",
    "df = pd.concat([df, protocol_dummies], axis=1)\n",
    "df = df.drop(columns=['Protocol'])\n",
    "\n",
    "traffic_dummies = pd.get_dummies(df['Traffic Type'], prefix='', prefix_sep='')\n",
    "traffic_dummies = traffic_dummies[['HTTP', 'DNS']].astype(int)\n",
    "df = pd.concat([df, traffic_dummies], axis=1)\n",
    "df = df.drop(columns=['Traffic Type'])\n",
    "\n",
    "Action_dummies = pd.get_dummies(df['Action Taken'], prefix='', prefix_sep='')\n",
    "Action_dummies = Action_dummies[['Logged', 'Blocked']].astype(int)\n",
    "df = pd.concat([df, Action_dummies], axis=1)\n",
    "df = df.drop(columns=['Action Taken'])\n",
    "\n",
    "sec_dummies = pd.get_dummies(df['Severity Level'], prefix='', prefix_sep='')\n",
    "sec_dummies = sec_dummies[['Low', 'Medium']].astype(int)\n",
    "df = pd.concat([df, sec_dummies], axis=1)\n",
    "df = df.drop(columns=['Severity Level'])\n",
    "\n",
    "net = pd.get_dummies(df['Network Segment'], prefix='', prefix_sep='')\n",
    "net = net[['Segment A', 'Segment B']].astype(int)\n",
    "df = pd.concat([df, net], axis=1)\n",
    "df = df.drop(columns=['Network Segment'])\n",
    "\n",
    "df[[\"OS\", \"Browser\", \"Device Type\"]] = df[\"Device Information\"].apply(extract_device_info)\n",
    "df = df.drop(columns='Device Information')\n",
    "df = pd.get_dummies(df, columns=[\"OS\", \"Browser\", \"Device Type\"], drop_first=True, dtype=int)\n",
    "\n",
    "df[['Src_Octet1', 'Src_Octet2', 'Src_Octet3', 'Src_Octet4']] = df['Source IP Address'].apply(extract_ip_features)\n",
    "df[['Dst_Octet1', 'Dst_Octet2', 'Dst_Octet3', 'Dst_Octet4']] = df['Destination IP Address'].apply(extract_ip_features)\n",
    "df['Proxy_Used'] = df['Proxy Information'].apply(lambda x: 0 if x == 0 or pd.isnull(x) else 1)\n"
   ]
  },
  {
   "cell_type": "code",
   "execution_count": 8,
   "id": "82ead299-9629-4e86-a366-4a101d674ca8",
   "metadata": {},
   "outputs": [],
   "source": [
    "df[\"Timestamp\"] = pd.to_datetime(df[\"Timestamp\"], errors=\"coerce\")"
   ]
  },
  {
   "cell_type": "code",
   "execution_count": 9,
   "id": "d200bb3e-42e6-40f4-a35e-efb02991913f",
   "metadata": {},
   "outputs": [],
   "source": [
    "df[\"Year\"] = df[\"Timestamp\"].dt.year\n",
    "df = pd.get_dummies(df, columns=['Year'], drop_first=True, dtype=int)\n",
    "df[\"Month\"] = df[\"Timestamp\"].dt.month\n",
    "df[\"Day\"] = df[\"Timestamp\"].dt.day\n",
    "df[\"Hour\"] = df[\"Timestamp\"].dt.hour\n",
    "df[\"Minute\"] = df[\"Timestamp\"].dt.minute\n",
    "df[\"Second\"] = df[\"Timestamp\"].dt.second\n",
    "df[\"Day_of_Week\"] = df[\"Timestamp\"].dt.dayofweek\n",
    "\n",
    "df['Timestamp'] = pd.to_datetime(df['Timestamp'], format='%d/%m/%Y %H:%M')\n",
    "\n",
    "df['Hour'] = df['Timestamp'].dt.hour\n",
    "df['Day_of_Week'] = df['Timestamp'].dt.dayofweek  # Monday = 0, Sunday = 6\n",
    "df['Month'] = df['Timestamp'].dt.month\n",
    "\n",
    "df['Time_of_Day'] = df['Hour'].apply(time_of_day)\n",
    "\n",
    "df = pd.get_dummies(df, columns=['Day_of_Week', 'Month', 'Time_of_Day'], drop_first=True)\n",
    "\n",
    "df = df.drop(columns = 'Timestamp')"
   ]
  },
  {
   "cell_type": "code",
   "execution_count": 10,
   "id": "dad36910-1588-4805-a016-b9d53ad44e63",
   "metadata": {},
   "outputs": [],
   "source": [
    "df['Src_Port_Binned'] = pd.cut(df['Source Port'], bins=[0, 1023, 49151, 65535], labels=['Well-Known', 'Registered', 'Dynamic'])\n",
    "df['Dst_Port_Binned'] = pd.cut(df['Destination Port'], bins=[0, 1023, 49151, 65535], labels=['Well-Known', 'Registered', 'Dynamic'])\n",
    "\n",
    "df['Log_Packet_Length'] = np.log1p(df['Packet Length'])\n",
    "\n",
    "df[['Src_Octet1', 'Src_Octet2', 'Src_Octet3', 'Src_Octet4']] = df['Source IP Address'].str.split('.', expand=True).astype(int)\n",
    "df[['Dst_Octet1', 'Dst_Octet2', 'Dst_Octet3', 'Dst_Octet4']] = df['Destination IP Address'].str.split('.', expand=True).astype(int)\n",
    "\n",
    "df['Src_Octet1*Dst_Octet1'] = df['Src_Octet1'] * df['Dst_Octet1']\n",
    "df['Src_Octet2*Dst_Octet2'] = df['Src_Octet2'] * df['Dst_Octet2']\n",
    "df['Src_Octet3*Dst_Octet3'] = df['Src_Octet3'] * df['Dst_Octet3']\n",
    "df['Src_Octet4*Dst_Octet4'] = df['Src_Octet4'] * df['Dst_Octet4']\n",
    "\n",
    "df = pd.get_dummies(df, columns=['Src_Port_Binned', 'Dst_Port_Binned'], drop_first=True)\n",
    "df = df.drop(columns=['Source IP Address', 'Destination IP Address', 'Proxy Information'])"
   ]
  },
  {
   "cell_type": "code",
   "execution_count": 11,
   "id": "c605c31b-99b6-407e-bfd0-19490c034d0f",
   "metadata": {},
   "outputs": [],
   "source": [
    "attack_mapping = {'Malware': 0, 'Intrusion': 1, 'DDoS': 2}\n",
    "df['Attack Type'] = df['Attack Type'].map(attack_mapping)"
   ]
  },
  {
   "cell_type": "code",
   "execution_count": 12,
   "id": "8d943067-6d25-4383-90c2-9317011c53b4",
   "metadata": {},
   "outputs": [
    {
     "data": {
      "text/plain": [
       "Source Port                   int64\n",
       "Destination Port              int64\n",
       "Packet Length                 int64\n",
       "Packet Type                   int64\n",
       "Malware Indicators            int64\n",
       "                              ...  \n",
       "Src_Octet4*Dst_Octet4         int64\n",
       "Src_Port_Binned_Registered     bool\n",
       "Src_Port_Binned_Dynamic        bool\n",
       "Dst_Port_Binned_Registered     bool\n",
       "Dst_Port_Binned_Dynamic        bool\n",
       "Length: 75, dtype: object"
      ]
     },
     "execution_count": 12,
     "metadata": {},
     "output_type": "execute_result"
    }
   ],
   "source": [
    "df.dtypes"
   ]
  },
  {
   "cell_type": "code",
   "execution_count": 13,
   "id": "8685a949-2af3-4959-872c-44467c1f7347",
   "metadata": {},
   "outputs": [
    {
     "name": "stdout",
     "output_type": "stream",
     "text": [
      "Data has been standardized: Mean ~0, Std ~1\n",
      "        Source Port  Destination Port  Packet Length   Packet Type  \\\n",
      "count  4.000000e+04      4.000000e+04   4.000000e+04  4.000000e+04   \n",
      "mean   3.677059e-17      1.776357e-16   3.304024e-17 -2.469136e-17   \n",
      "std    1.000013e+00      1.000013e+00   1.000013e+00  1.000013e+00   \n",
      "min   -1.721068e+00     -1.729628e+00  -1.724484e+00 -9.882194e-01   \n",
      "25%   -8.685042e-01     -8.644202e-01  -8.687953e-01 -9.882194e-01   \n",
      "50%   -6.161382e-03     -7.880112e-03   1.315442e-03 -9.882194e-01   \n",
      "75%    8.597913e-01      8.687279e-01   8.690226e-01  1.011921e+00   \n",
      "max    1.754273e+00      1.743479e+00   1.727115e+00  1.011921e+00   \n",
      "\n",
      "       Malware Indicators  Anomaly Scores  Alerts/Warnings   Attack Type  \\\n",
      "count        40000.000000    4.000000e+04     4.000000e+04  40000.000000   \n",
      "mean             0.000000    5.719869e-17     9.237056e-18      1.003025   \n",
      "std              1.000013    1.000013e+00     1.000013e+00      0.817547   \n",
      "min             -1.000000   -1.736841e+00    -9.966556e-01      0.000000   \n",
      "25%             -1.000000   -8.651879e-01    -9.966556e-01      0.000000   \n",
      "50%              0.000000    8.024290e-03    -9.966556e-01      1.000000   \n",
      "75%              1.000000    8.635609e-01     1.003356e+00      2.000000   \n",
      "max              1.000000    1.728975e+00     1.003356e+00      2.000000   \n",
      "\n",
      "       Attack Signature  Firewall Logs  ...  Time_of_Day_Night  \\\n",
      "count      4.000000e+04   4.000000e+04  ...       4.000000e+04   \n",
      "mean       5.222489e-17   8.366641e-17  ...       4.369838e-17   \n",
      "std        1.000013e+00   1.000013e+00  ...       1.000013e+00   \n",
      "min       -1.003807e+00  -1.001952e+00  ...      -7.059801e-01   \n",
      "25%       -1.003807e+00  -1.001952e+00  ...      -7.059801e-01   \n",
      "50%        9.962072e-01   9.980519e-01  ...      -7.059801e-01   \n",
      "75%        9.962072e-01   9.980519e-01  ...       1.416470e+00   \n",
      "max        9.962072e-01   9.980519e-01  ...       1.416470e+00   \n",
      "\n",
      "       Log_Packet_Length  Src_Octet1*Dst_Octet1  Src_Octet2*Dst_Octet2  \\\n",
      "count       4.000000e+04           4.000000e+04           4.000000e+04   \n",
      "mean       -8.354206e-16           4.884981e-17          -5.968559e-17   \n",
      "std         1.000013e+00           1.000013e+00           1.000013e+00   \n",
      "min        -3.095798e+00          -1.134971e+00          -1.132048e+00   \n",
      "25%        -5.572287e-01          -8.204263e-01          -8.318760e-01   \n",
      "50%         2.859056e-01          -2.939475e-01          -2.847884e-01   \n",
      "75%         8.010989e-01           5.910776e-01           6.133068e-01   \n",
      "max         1.170149e+00           3.376616e+00           3.347707e+00   \n",
      "\n",
      "       Src_Octet3*Dst_Octet3  Src_Octet4*Dst_Octet4  \\\n",
      "count           4.000000e+04           4.000000e+04   \n",
      "mean           -6.394885e-17          -1.421085e-17   \n",
      "std             1.000013e+00           1.000013e+00   \n",
      "min            -1.133341e+00          -1.130745e+00   \n",
      "25%            -8.274672e-01          -8.308691e-01   \n",
      "50%            -2.839855e-01          -2.809975e-01   \n",
      "75%             5.996241e-01           6.006854e-01   \n",
      "max             3.386984e+00           3.383540e+00   \n",
      "\n",
      "       Src_Port_Binned_Registered  Src_Port_Binned_Dynamic  \\\n",
      "count                4.000000e+04             4.000000e+04   \n",
      "mean                -1.014300e-16             4.263256e-17   \n",
      "std                  1.000013e+00             1.000013e+00   \n",
      "min                 -1.746137e+00            -5.726929e-01   \n",
      "25%                  5.726929e-01            -5.726929e-01   \n",
      "50%                  5.726929e-01            -5.726929e-01   \n",
      "75%                  5.726929e-01            -5.726929e-01   \n",
      "max                  5.726929e-01             1.746137e+00   \n",
      "\n",
      "       Dst_Port_Binned_Registered  Dst_Port_Binned_Dynamic  \n",
      "count                4.000000e+04             4.000000e+04  \n",
      "mean                 7.602807e-17            -7.602807e-17  \n",
      "std                  1.000013e+00             1.000013e+00  \n",
      "min                 -1.723548e+00            -5.801985e-01  \n",
      "25%                 -1.723548e+00            -5.801985e-01  \n",
      "50%                  5.801985e-01            -5.801985e-01  \n",
      "75%                  5.801985e-01             1.723548e+00  \n",
      "max                  5.801985e-01             1.723548e+00  \n",
      "\n",
      "[8 rows x 75 columns]\n"
     ]
    }
   ],
   "source": [
    "bool_columns = df.select_dtypes(include=['bool']).columns\n",
    "df[bool_columns] = df[bool_columns].astype(int)\n",
    "numerical_columns = df.select_dtypes(include=['number']).columns\n",
    "numerical_columns = numerical_columns.drop(\"Attack Type\", errors=\"ignore\")\n",
    "scaler = StandardScaler()\n",
    "df[numerical_columns] = scaler.fit_transform(df[numerical_columns])\n",
    "joblib.dump(scaler, \"./data/scaler.pkl\")\n",
    "print(\"Data has been standardized: Mean ~0, Std ~1\")\n",
    "print(df.describe())"
   ]
  },
  {
   "cell_type": "code",
   "execution_count": null,
   "id": "dca6896c-41ff-4056-b64d-76e7c246f270",
   "metadata": {},
   "outputs": [],
   "source": [
    "df.to_csv('./data/Processed_01.csv', index=False)"
   ]
  },
  {
   "cell_type": "code",
   "execution_count": 15,
   "id": "2f33ab75-ce6e-49d8-8424-f2c934231509",
   "metadata": {},
   "outputs": [
    {
     "data": {
      "text/plain": [
       "Attack Type       1.000000\n",
       "Day_of_Week_1     0.015047\n",
       "Packet Type       0.011329\n",
       "Browser_Other     0.010652\n",
       "Month_3           0.009617\n",
       "                    ...   \n",
       "Browser_Safari   -0.007483\n",
       "Minute           -0.008124\n",
       "Day_of_Week_4    -0.008837\n",
       "Month_7          -0.008946\n",
       "Month_11         -0.009036\n",
       "Name: Attack Type, Length: 75, dtype: float64"
      ]
     },
     "execution_count": 15,
     "metadata": {},
     "output_type": "execute_result"
    }
   ],
   "source": [
    "corr_matrix = df.corr(numeric_only=True)['Attack Type'].sort_values(ascending=False)\n",
    "corr_matrix"
   ]
  },
  {
   "cell_type": "code",
   "execution_count": 16,
   "id": "22b09491",
   "metadata": {},
   "outputs": [
    {
     "name": "stdout",
     "output_type": "stream",
     "text": [
      "PCA Transformation Complete\n",
      "Explained Variance Ratio per Component: [0.03795335 0.03645507 0.03582283 0.02657195 0.0263606  0.02628488\n",
      " 0.0260257  0.02590127 0.02575956 0.0234775  0.02060229 0.0204925\n",
      " 0.0203513  0.02030523 0.0199116  0.01958447 0.01947289 0.01843674\n",
      " 0.01673719 0.01598632 0.01595765 0.01581155 0.01579909 0.01576553\n",
      " 0.0150825  0.01492409 0.01488914 0.01483428 0.01480335 0.01473822\n",
      " 0.01469703 0.01457329 0.01446671 0.01380578 0.0137581  0.0136988\n",
      " 0.01367432 0.01367192 0.01357993 0.0135046  0.01346282 0.01341657\n",
      " 0.013392   0.01337337 0.01330833 0.01318556 0.01315276 0.0131255\n",
      " 0.01299796 0.01240046 0.01088282 0.00767683 0.00730725 0.0068276\n",
      " 0.00677631 0.00671822]\n"
     ]
    }
   ],
   "source": [
    "X = df.drop(columns=['Attack Type'], errors='ignore')\n",
    "pca = PCA(n_components=0.95)\n",
    "X_pca = pca.fit_transform(X)\n",
    "joblib.dump(pca, \"./data/pca.pkl\")\n",
    "pca_columns = [f'PC{i+1}' for i in range(X_pca.shape[1])]\n",
    "X_pca_df = pd.DataFrame(X_pca, columns=pca_columns)\n",
    "explained_variance = pca.explained_variance_ratio_\n",
    "cumulative_variance = np.cumsum(explained_variance)\n",
    "print(\"PCA Transformation Complete\")\n",
    "print(\"Explained Variance Ratio per Component:\", explained_variance)"
   ]
  },
  {
   "cell_type": "code",
   "execution_count": 17,
   "id": "549e04bc",
   "metadata": {},
   "outputs": [],
   "source": [
    "X_pca_df['Attack Type'] = df['Attack Type']\n",
    "X_pca_df.to_csv(\"./data/Processed_02.csv\", index=False)"
   ]
  },
  {
   "cell_type": "code",
   "execution_count": 18,
   "id": "046f0775",
   "metadata": {},
   "outputs": [
    {
     "name": "stdout",
     "output_type": "stream",
     "text": [
      "Top 20 Most Important Principal Components:\n",
      "PC36    0.018729\n",
      "PC41    0.018668\n",
      "PC49    0.018634\n",
      "PC6     0.018573\n",
      "PC47    0.018536\n",
      "PC9     0.018528\n",
      "PC40    0.018508\n",
      "PC12    0.018484\n",
      "PC39    0.018479\n",
      "PC37    0.018474\n",
      "PC8     0.018470\n",
      "PC43    0.018459\n",
      "PC42    0.018430\n",
      "PC7     0.018424\n",
      "PC48    0.018421\n",
      "PC46    0.018332\n",
      "PC35    0.018323\n",
      "PC11    0.018311\n",
      "PC34    0.018298\n",
      "PC45    0.018262\n",
      "dtype: float64\n"
     ]
    }
   ],
   "source": [
    "data_pca = pd.read_csv(\"./data/Processed_02.csv\")\n",
    "X_pca = data_pca.drop(columns=['Attack Type'])\n",
    "y = data_pca['Attack Type']\n",
    "rf = RandomForestClassifier(n_estimators=100, random_state=42)\n",
    "rf.fit(X_pca, y)\n",
    "feature_importances = pd.Series(rf.feature_importances_, index=X_pca.columns).sort_values(ascending=False)\n",
    "top_20_features = feature_importances.head(20)\n",
    "print(\"Top 20 Most Important Principal Components:\")\n",
    "print(top_20_features)\n"
   ]
  },
  {
   "cell_type": "code",
   "execution_count": 19,
   "id": "b8a014e2",
   "metadata": {},
   "outputs": [
    {
     "name": "stdout",
     "output_type": "stream",
     "text": [
      "Processed dataset with the top 20 PCA features saved as 'Processed_03.csv'.\n"
     ]
    }
   ],
   "source": [
    "top_20_pcs = [\n",
    "    \"PC9\", \"PC41\", \"PC36\", \"PC7\", \"PC37\", \"PC6\", \"PC39\", \"PC48\", \"PC8\", \"PC11\",\n",
    "    \"PC5\", \"PC44\", \"PC40\", \"PC43\", \"PC45\", \"PC4\", \"PC38\", \"PC35\", \"PC55\", \"PC49\"\n",
    "]\n",
    "final_dataset = data_pca[top_20_pcs + [\"Attack Type\"]]\n",
    "final_dataset.to_csv(\"./data/Processed_03.csv\", index=False)\n",
    "print(\"Processed dataset with the top 20 PCA features saved as 'Processed_03.csv'.\")"
   ]
  }
 ],
 "metadata": {
  "kernelspec": {
   "display_name": "Cybsec_Proj",
   "language": "python",
   "name": "python3"
  },
  "language_info": {
   "codemirror_mode": {
    "name": "ipython",
    "version": 3
   },
   "file_extension": ".py",
   "mimetype": "text/x-python",
   "name": "python",
   "nbconvert_exporter": "python",
   "pygments_lexer": "ipython3",
   "version": "3.12.7"
  }
 },
 "nbformat": 4,
 "nbformat_minor": 5
}
